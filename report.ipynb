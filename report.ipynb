{
 "cells": [
  {
   "cell_type": "markdown",
   "metadata": {
    "colab_type": "text",
    "id": "J3PjcaBpt--G"
   },
   "source": [
    "# Домашняя работа №1. Часть №1. Первичный анализ данных фондового рынка.\n",
    "\n",
    " <b>рынок:</b> Бразилия<br>\n",
    " <b>период:</b> 2018 год\n",
    "\n",
    "Выполнили студенты группы <b>22ПМИ-2</b>\n",
    "\n",
    "Коршунова Анастасия, <br>\n",
    "Деркач Алёна, <br>\n",
    "Бовырин Денис"
   ]
  },
  {
   "cell_type": "markdown",
   "metadata": {
    "colab_type": "text",
    "id": "aZApkfj5t--I"
   },
   "source": [
    "<b> 1. Собрать информацию по указанному фондовому рынку (сколько активов, когда начались торги, основные компании…). Собрать данные по дневным ценам активов (акций) на заданном фондовом рынке за указанный период (1 год, примерно 250 наблюдений). "
   ]
  },
  {
   "cell_type": "markdown",
   "metadata": {},
   "source": [
    "Мы нашли информацию о бразильских компаниях за 2018 год на сайте https://www.marketwatch.com/ и выделили 10 основных:\n",
    "1.  Banco Bradesco                      \n",
    "2.  Bicicletas Monark\n",
    "3.  Braskem\n",
    "4.  Centrais Eletricas Brasileiras\n",
    "5.  Companhia Siderurgica Nacional Ord\n",
    "6.  Cyrela Brazil Realty\n",
    "7.  Embraer S.A.\n",
    "8.  GOL Linhas Aereas Inteligentes\n",
    "9.  Itau Unibanco Holding S.A. Ord\n",
    "10. Light S/A Ord\n",
    "\n",
    "Все данные были записаны в excel файле Data.xlsx. В файле указаны дата, отрытие/закрытие торгов, самое высокое/низкое значение и объем."
   ]
  },
  {
   "cell_type": "markdown",
   "metadata": {
    "colab_type": "text",
    "id": "k2VynQ-nt--q"
   },
   "source": [
    "<b>2. Преобразовать данные по ценам в данные по доходностям (используйте логарифмическую доходность). Вычислите оценки ожидаемых доходностей и стандартных отклонений и постройте «карту» активов в системе координат (σ, E)."
   ]
  },
  {
   "cell_type": "markdown",
   "metadata": {},
   "source": [
    "В этой же таблице мы добавили столбец с преобразованием данных по ценам в данные по доходностям (Return и log_retern). Столбец 'Return' был добавлен для наглядности и проверки данных. В дальнейшем для подсчетов будет использоваться только log_return."
   ]
  },
  {
   "cell_type": "code",
   "execution_count": null,
   "metadata": {},
   "outputs": [],
   "source": [
    "#  Функция для вычисления стандартного отклонения\n",
    "def find_risk(data):\n",
    "    risk = data['log_return'].std()\n",
    "    return risk\n",
    "\n",
    "#  Функция для вычисления ожидаемой доходности\n",
    "def find_expected_return(data):\n",
    "    expected_return = data['log_return'].mean()\n",
    "    return expected_return"
   ]
  },
  {
   "cell_type": "code",
   "execution_count": null,
   "metadata": {},
   "outputs": [],
   "source": [
    "expected_returns = {}\n",
    "risks = {}\n",
    "\n",
    "#  Находим ожидаемую доходность и стандартное отклонение для каждого актива и записываем в словари\n",
    "for sheet, data in data_sheets.items():\n",
    "    expected_returns[sheet] = find_expected_return(data)\n",
    "    risks[sheet] = find_risk(data)"
   ]
  },
  {
   "cell_type": "markdown",
   "metadata": {},
   "source": [
    "Два актива (Banco Bradesco и Braskem) имеют очень близкие значения (выделено зелёным), поэтому на графике видно только 9 активов."
   ]
  },
  {
   "attachments": {
    "Карта активов-2.png": {
     "image/png": "[encoded data removed]"
    }
   },
   "cell_type": "markdown",
   "metadata": {},
   "source": [
    "![Карта активов-2.png](<attachment:Карта активов-2.png>)"
   ]
  },
  {
   "cell_type": "markdown",
   "metadata": {
    "colab_type": "text",
    "id": "sFfd_WWat-_B"
   },
   "source": [
    "<b>3. Найдите все Парето оптимальные активы (те активы, характеристики которых нельзя улучшить сразу по двум критериям). Отметьте их на карте активов.\n",
    "\n"
   ]
  },
  {
   "cell_type": "markdown",
   "metadata": {
    "colab_type": "text",
    "id": "OEvX_OPwt-_g"
   },
   "source": [
    "<b>4. Задайте уровень доверия  0,95 и оцените VaR (Value at Risk = Сумма под Риском,  Потери = - Доходности) для Парето-оптимальных активов вашего рынка. Какой из активов наиболее предпочтителен по этой характеристике?  Где он расположен на карте активов? "
   ]
  },
  {
   "cell_type": "markdown",
   "metadata": {
    "colab_type": "text",
    "id": "Qd1hpabst-_x"
   },
   "source": [
    "<b>5. Задайте уровень доверия  0,95 и оцените CVaR (Conditional Value at Risk = Условная Сумма под Риском, Потери = - Доходности) для Парето-оптимальных активов вашего рынка. Какой из активов наиболее предпочтителен по этой характеристике?  Где он расположен на карте активов? Сравните с результатом предыдущего пункта."
   ]
  },
  {
   "cell_type": "markdown",
   "metadata": {
    "colab_type": "text",
    "id": "-oQ6E7s1t_Bh"
   },
   "source": [
    "<b>6. Выберите несколько интересных (значимых)  активов вашего рынка.   Можно ли считать наблюдаемые доходности конкретного актива повторной выборкой из некоторого распределения (белый шум)?  Поищите научные подходы к ответу на этот вопрос (проверка гипотезы о случайности, Ивченко Г.И. Медведев Ю.И. Введение в математическую статистику)."
   ]
  },
  {
   "cell_type": "markdown",
   "metadata": {
    "colab_type": "text",
    "id": "prSNUNhft_CP"
   },
   "source": [
    "<b>7. Выберите несколько интересных (значимых)  активов рынка из разных производственных секторов.   В предположении, что наблюдаемые доходности являются повторной выборкой из некоторого распределения исследовать (выборочно) распределения доходностей выбранных активов. Можно ли считать, что распределения доходностей подчиняются нормальному закону  распределения? "
   ]
  },
  {
   "cell_type": "markdown",
   "metadata": {
    "colab_type": "text",
    "id": "7Qd_-XTbt_Dm"
   },
   "source": [
    "<b>8. Если в п.7 ответ отрицательный, какие другие законы распределения доходностей соответствуют данным наблюдений?"
   ]
  },
  {
   "cell_type": "markdown",
   "metadata": {
    "colab_type": "text",
    "id": "4OIkW2CWt_Ea"
   },
   "source": [
    "<b>9. Попробуйте найти что-нибудь интересное (необычное) на вашем рынке. Используйте любые известные вам методы анализа данных. "
   ]
  }
 ],
 "metadata": {
  "colab": {
   "name": "report1.ipynb",
   "provenance": []
  },
  "kernelspec": {
   "display_name": "Python 3",
   "language": "python",
   "name": "python3"
  },
  "language_info": {
   "codemirror_mode": {
    "name": "ipython",
    "version": 3
   },
   "file_extension": ".py",
   "mimetype": "text/x-python",
   "name": "python",
   "nbconvert_exporter": "python",
   "pygments_lexer": "ipython3",
   "version": "3.10.11"
  }
 },
 "nbformat": 4,
 "nbformat_minor": 4
}
